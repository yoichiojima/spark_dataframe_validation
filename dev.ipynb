{
 "cells": [
  {
   "cell_type": "code",
   "execution_count": 25,
   "id": "d2ea9f0f-8ef6-43fd-92da-dfaefe00fd27",
   "metadata": {},
   "outputs": [],
   "source": [
    "from pyspark.sql import SparkSession\n",
    "from pyspark.sql.types import (\n",
    "    StructType, \n",
    "    StructField, \n",
    "    StringType, \n",
    "    FloatType\n",
    ")"
   ]
  },
  {
   "cell_type": "code",
   "execution_count": 26,
   "id": "85e8cc4c-3a1a-45e1-9493-1e72d917c670",
   "metadata": {},
   "outputs": [],
   "source": [
    "spark = SparkSession.builder.getOrCreate()"
   ]
  },
  {
   "cell_type": "code",
   "execution_count": 28,
   "id": "897881bd-ceee-4cb4-81d0-73376d870ac6",
   "metadata": {},
   "outputs": [
    {
     "name": "stdout",
     "output_type": "stream",
     "text": [
      "+----+----------+----+\n",
      "|  id|      name|rate|\n",
      "+----+----------+----+\n",
      "|0001|    peanut| 0.5|\n",
      "|0002|strawberry| 0.6|\n",
      "|0003|   caramel| 0.4|\n",
      "+----+----------+----+\n",
      "\n"
     ]
    }
   ],
   "source": [
    "data = [\n",
    "    {\"id\": \"0001\", \"name\": \"peanut\", \"rate\": 0.5}, \n",
    "    {\"id\": \"0002\", \"name\": \"strawberry\", \"rate\": 0.6}, \n",
    "    {\"id\": \"0003\", \"name\": \"caramel\", \"rate\": 0.4}\n",
    "]\n",
    "\n",
    "schema = StructType([\n",
    "    StructField(\"id\", StringType(), nullable = False), \n",
    "    StructField(\"name\", StringType(), nullable = False), \n",
    "    StructField(\"rate\", FloatType(), nullable = False)\n",
    "])\n",
    "\n",
    "spark.createDataFrame(data, schema).show()"
   ]
  },
  {
   "cell_type": "code",
   "execution_count": null,
   "id": "12ad9853-a8d2-447c-87cd-0ca6a1958b91",
   "metadata": {},
   "outputs": [],
   "source": []
  }
 ],
 "metadata": {
  "kernelspec": {
   "display_name": "pyspark",
   "language": "python",
   "name": "pyspark"
  },
  "language_info": {
   "codemirror_mode": {
    "name": "ipython",
    "version": 3
   },
   "file_extension": ".py",
   "mimetype": "text/x-python",
   "name": "python",
   "nbconvert_exporter": "python",
   "pygments_lexer": "ipython3",
   "version": "3.9.16"
  }
 },
 "nbformat": 4,
 "nbformat_minor": 5
}
